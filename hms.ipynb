{
 "cells": [
  {
   "cell_type": "code",
   "execution_count": 3,
   "metadata": {},
   "outputs": [
    {
     "data": {
      "text/html": [
       "<div>\n",
       "<style scoped>\n",
       "    .dataframe tbody tr th:only-of-type {\n",
       "        vertical-align: middle;\n",
       "    }\n",
       "\n",
       "    .dataframe tbody tr th {\n",
       "        vertical-align: top;\n",
       "    }\n",
       "\n",
       "    .dataframe thead th {\n",
       "        text-align: right;\n",
       "    }\n",
       "</style>\n",
       "<table border=\"1\" class=\"dataframe\">\n",
       "  <thead>\n",
       "    <tr style=\"text-align: right;\">\n",
       "      <th></th>\n",
       "      <th>eeg_id</th>\n",
       "      <th>eeg_sub_id</th>\n",
       "      <th>eeg_label_offset_seconds</th>\n",
       "      <th>spectrogram_id</th>\n",
       "      <th>spectrogram_sub_id</th>\n",
       "      <th>spectrogram_label_offset_seconds</th>\n",
       "      <th>label_id</th>\n",
       "      <th>patient_id</th>\n",
       "      <th>expert_consensus</th>\n",
       "      <th>seizure_vote</th>\n",
       "      <th>lpd_vote</th>\n",
       "      <th>gpd_vote</th>\n",
       "      <th>lrda_vote</th>\n",
       "      <th>grda_vote</th>\n",
       "      <th>other_vote</th>\n",
       "    </tr>\n",
       "  </thead>\n",
       "  <tbody>\n",
       "    <tr>\n",
       "      <th>0</th>\n",
       "      <td>4144388963</td>\n",
       "      <td>140</td>\n",
       "      <td>604.0</td>\n",
       "      <td>1156825996</td>\n",
       "      <td>140</td>\n",
       "      <td>604.0</td>\n",
       "      <td>1451266906</td>\n",
       "      <td>59489</td>\n",
       "      <td>GRDA</td>\n",
       "      <td>0</td>\n",
       "      <td>0</td>\n",
       "      <td>0</td>\n",
       "      <td>0</td>\n",
       "      <td>3</td>\n",
       "      <td>0</td>\n",
       "    </tr>\n",
       "    <tr>\n",
       "      <th>1</th>\n",
       "      <td>2353475448</td>\n",
       "      <td>30</td>\n",
       "      <td>64.0</td>\n",
       "      <td>1002394133</td>\n",
       "      <td>30</td>\n",
       "      <td>64.0</td>\n",
       "      <td>4000072340</td>\n",
       "      <td>5339</td>\n",
       "      <td>LRDA</td>\n",
       "      <td>0</td>\n",
       "      <td>0</td>\n",
       "      <td>0</td>\n",
       "      <td>3</td>\n",
       "      <td>0</td>\n",
       "      <td>0</td>\n",
       "    </tr>\n",
       "    <tr>\n",
       "      <th>2</th>\n",
       "      <td>1618328341</td>\n",
       "      <td>9</td>\n",
       "      <td>52.0</td>\n",
       "      <td>900482955</td>\n",
       "      <td>9</td>\n",
       "      <td>52.0</td>\n",
       "      <td>4140697659</td>\n",
       "      <td>20198</td>\n",
       "      <td>GRDA</td>\n",
       "      <td>0</td>\n",
       "      <td>0</td>\n",
       "      <td>0</td>\n",
       "      <td>0</td>\n",
       "      <td>3</td>\n",
       "      <td>0</td>\n",
       "    </tr>\n",
       "    <tr>\n",
       "      <th>3</th>\n",
       "      <td>979865826</td>\n",
       "      <td>7</td>\n",
       "      <td>90.0</td>\n",
       "      <td>1626043434</td>\n",
       "      <td>7</td>\n",
       "      <td>90.0</td>\n",
       "      <td>919550440</td>\n",
       "      <td>1069</td>\n",
       "      <td>Other</td>\n",
       "      <td>1</td>\n",
       "      <td>1</td>\n",
       "      <td>4</td>\n",
       "      <td>1</td>\n",
       "      <td>4</td>\n",
       "      <td>5</td>\n",
       "    </tr>\n",
       "    <tr>\n",
       "      <th>4</th>\n",
       "      <td>521108392</td>\n",
       "      <td>0</td>\n",
       "      <td>0.0</td>\n",
       "      <td>827447277</td>\n",
       "      <td>0</td>\n",
       "      <td>0.0</td>\n",
       "      <td>1717414556</td>\n",
       "      <td>13134</td>\n",
       "      <td>Other</td>\n",
       "      <td>0</td>\n",
       "      <td>0</td>\n",
       "      <td>0</td>\n",
       "      <td>0</td>\n",
       "      <td>0</td>\n",
       "      <td>1</td>\n",
       "    </tr>\n",
       "    <tr>\n",
       "      <th>...</th>\n",
       "      <td>...</td>\n",
       "      <td>...</td>\n",
       "      <td>...</td>\n",
       "      <td>...</td>\n",
       "      <td>...</td>\n",
       "      <td>...</td>\n",
       "      <td>...</td>\n",
       "      <td>...</td>\n",
       "      <td>...</td>\n",
       "      <td>...</td>\n",
       "      <td>...</td>\n",
       "      <td>...</td>\n",
       "      <td>...</td>\n",
       "      <td>...</td>\n",
       "      <td>...</td>\n",
       "    </tr>\n",
       "    <tr>\n",
       "      <th>995</th>\n",
       "      <td>2509824693</td>\n",
       "      <td>10</td>\n",
       "      <td>68.0</td>\n",
       "      <td>1005228554</td>\n",
       "      <td>15</td>\n",
       "      <td>330.0</td>\n",
       "      <td>219919562</td>\n",
       "      <td>14386</td>\n",
       "      <td>LPD</td>\n",
       "      <td>0</td>\n",
       "      <td>11</td>\n",
       "      <td>0</td>\n",
       "      <td>1</td>\n",
       "      <td>1</td>\n",
       "      <td>2</td>\n",
       "    </tr>\n",
       "    <tr>\n",
       "      <th>996</th>\n",
       "      <td>2882719839</td>\n",
       "      <td>14</td>\n",
       "      <td>50.0</td>\n",
       "      <td>2035369578</td>\n",
       "      <td>14</td>\n",
       "      <td>50.0</td>\n",
       "      <td>4193559045</td>\n",
       "      <td>2641</td>\n",
       "      <td>GPD</td>\n",
       "      <td>5</td>\n",
       "      <td>0</td>\n",
       "      <td>11</td>\n",
       "      <td>0</td>\n",
       "      <td>0</td>\n",
       "      <td>0</td>\n",
       "    </tr>\n",
       "    <tr>\n",
       "      <th>997</th>\n",
       "      <td>1322226281</td>\n",
       "      <td>2</td>\n",
       "      <td>18.0</td>\n",
       "      <td>1740512896</td>\n",
       "      <td>2</td>\n",
       "      <td>18.0</td>\n",
       "      <td>1697286566</td>\n",
       "      <td>49448</td>\n",
       "      <td>Other</td>\n",
       "      <td>0</td>\n",
       "      <td>0</td>\n",
       "      <td>0</td>\n",
       "      <td>0</td>\n",
       "      <td>0</td>\n",
       "      <td>3</td>\n",
       "    </tr>\n",
       "    <tr>\n",
       "      <th>998</th>\n",
       "      <td>628369060</td>\n",
       "      <td>15</td>\n",
       "      <td>98.0</td>\n",
       "      <td>13143748</td>\n",
       "      <td>17</td>\n",
       "      <td>292.0</td>\n",
       "      <td>1650460145</td>\n",
       "      <td>34998</td>\n",
       "      <td>GPD</td>\n",
       "      <td>0</td>\n",
       "      <td>3</td>\n",
       "      <td>7</td>\n",
       "      <td>0</td>\n",
       "      <td>2</td>\n",
       "      <td>4</td>\n",
       "    </tr>\n",
       "    <tr>\n",
       "      <th>999</th>\n",
       "      <td>735834491</td>\n",
       "      <td>0</td>\n",
       "      <td>0.0</td>\n",
       "      <td>764146759</td>\n",
       "      <td>533</td>\n",
       "      <td>10026.0</td>\n",
       "      <td>1682518531</td>\n",
       "      <td>30631</td>\n",
       "      <td>LPD</td>\n",
       "      <td>0</td>\n",
       "      <td>1</td>\n",
       "      <td>0</td>\n",
       "      <td>1</td>\n",
       "      <td>0</td>\n",
       "      <td>0</td>\n",
       "    </tr>\n",
       "  </tbody>\n",
       "</table>\n",
       "<p>1000 rows × 15 columns</p>\n",
       "</div>"
      ],
      "text/plain": [
       "         eeg_id  eeg_sub_id  eeg_label_offset_seconds  spectrogram_id  \\\n",
       "0    4144388963         140                     604.0      1156825996   \n",
       "1    2353475448          30                      64.0      1002394133   \n",
       "2    1618328341           9                      52.0       900482955   \n",
       "3     979865826           7                      90.0      1626043434   \n",
       "4     521108392           0                       0.0       827447277   \n",
       "..          ...         ...                       ...             ...   \n",
       "995  2509824693          10                      68.0      1005228554   \n",
       "996  2882719839          14                      50.0      2035369578   \n",
       "997  1322226281           2                      18.0      1740512896   \n",
       "998   628369060          15                      98.0        13143748   \n",
       "999   735834491           0                       0.0       764146759   \n",
       "\n",
       "     spectrogram_sub_id  spectrogram_label_offset_seconds    label_id  \\\n",
       "0                   140                             604.0  1451266906   \n",
       "1                    30                              64.0  4000072340   \n",
       "2                     9                              52.0  4140697659   \n",
       "3                     7                              90.0   919550440   \n",
       "4                     0                               0.0  1717414556   \n",
       "..                  ...                               ...         ...   \n",
       "995                  15                             330.0   219919562   \n",
       "996                  14                              50.0  4193559045   \n",
       "997                   2                              18.0  1697286566   \n",
       "998                  17                             292.0  1650460145   \n",
       "999                 533                           10026.0  1682518531   \n",
       "\n",
       "     patient_id expert_consensus  seizure_vote  lpd_vote  gpd_vote  lrda_vote  \\\n",
       "0         59489             GRDA             0         0         0          0   \n",
       "1          5339             LRDA             0         0         0          3   \n",
       "2         20198             GRDA             0         0         0          0   \n",
       "3          1069            Other             1         1         4          1   \n",
       "4         13134            Other             0         0         0          0   \n",
       "..          ...              ...           ...       ...       ...        ...   \n",
       "995       14386              LPD             0        11         0          1   \n",
       "996        2641              GPD             5         0        11          0   \n",
       "997       49448            Other             0         0         0          0   \n",
       "998       34998              GPD             0         3         7          0   \n",
       "999       30631              LPD             0         1         0          1   \n",
       "\n",
       "     grda_vote  other_vote  \n",
       "0            3           0  \n",
       "1            0           0  \n",
       "2            3           0  \n",
       "3            4           5  \n",
       "4            0           1  \n",
       "..         ...         ...  \n",
       "995          1           2  \n",
       "996          0           0  \n",
       "997          0           3  \n",
       "998          2           4  \n",
       "999          0           0  \n",
       "\n",
       "[1000 rows x 15 columns]"
      ]
     },
     "execution_count": 3,
     "metadata": {},
     "output_type": "execute_result"
    }
   ],
   "source": [
    "import sys\n",
    "from pathlib import Path\n",
    "import pandas as pd\n",
    "import tarfile\n",
    "import urllib\n",
    "\n",
    "def load_metadata():\n",
    "  file_path = Path(\"data/train.csv\")\n",
    "  return pd.read_csv(file_path)\n",
    "  \n",
    "metadata = load_metadata()\n",
    "\n",
    "def extract_eeg():\n",
    "  eeg_dir = Path(\"../data/eeg\")\n",
    "  tarball_path = Path(\"data/eeg.tar.gz\")\n",
    "  if not tarball_path.is_file():\n",
    "    url = 'https://dl.dropboxusercontent.com/scl/fi/5sina48c4naaxv6uze0fv/eeg.tar.gz?rlkey=r7ec191extynfcm8fy0tsiws5&dl=0'\n",
    "    urllib.request.urlretrieve(url, tarball_path)\n",
    "    with tarfile.open(tarball_path) as eeg_tarball:\n",
    "      eeg_tarball.extractall()\n",
    "    \n",
    "extract_eeg()\n",
    "\n",
    "metadata"
   ]
  },
  {
   "cell_type": "code",
   "execution_count": null,
   "metadata": {},
   "outputs": [],
   "source": [
    "import dask.dataframe as dd\n",
    "from src.utils import compute_signal_hash\n",
    "\n",
    "channel_order = ['Fp1', 'Fp2',\n",
    "            'F7', 'F3', 'Fz', 'F4', 'F8', \n",
    "            'T3', 'C3', 'Cz', 'C4', 'T4', \n",
    "            'T5', 'P3', 'Pz', 'P4', 'T6', \n",
    "            'O1', 'O2',\n",
    "          ]\n",
    "\n",
    "def load_signals(metadata):\n",
    "  rows = len(metadata)\n",
    "  eeg_list = []\n",
    "\n",
    "  for row in range(0,rows):\n",
    "    sample = metadata.iloc[row]\n",
    "    f_name = f'data/eeg/{sample.eeg_id}.parquet'\n",
    "    eeg = pd.read_parquet(f_name)[channel_order]\n",
    "    eeg_offset = int(sample.eeg_label_offset_seconds)\n",
    "\n",
    "    eeg['eeg_id'] = str(sample.eeg_id)\n",
    "    eeg = eeg.set_index('eeg_id')\n",
    "\n",
    "    eeg = eeg.iloc[eeg_offset*200:(eeg_offset+50)*200]\n",
    "    eeg_list.append(eeg)\n",
    "\n",
    "  return dd.concat(eeg_list)\n",
    "\n",
    "ddf = load_signals(metadata)\n"
   ]
  },
  {
   "cell_type": "code",
   "execution_count": null,
   "metadata": {},
   "outputs": [],
   "source": [
    "df = ddf.compute()\n",
    "df\n",
    "eeg_ids = metadata['eeg_id'].to_list()"
   ]
  },
  {
   "cell_type": "code",
   "execution_count": null,
   "metadata": {},
   "outputs": [],
   "source": [
    "sig1 = df.loc['4144388963']"
   ]
  },
  {
   "cell_type": "markdown",
   "metadata": {},
   "source": [
    "Extracting top 3 channels based on max variance for all samples\n",
    "- 1000 samples computation duration = approx. 15 minutes"
   ]
  },
  {
   "cell_type": "code",
   "execution_count": null,
   "metadata": {},
   "outputs": [],
   "source": [
    "from src.feature_extraction import calculate_all_samples\n",
    "\n",
    "top_channels_df = calculate_all_samples(df, eeg_ids, 1000) \n",
    "top_channels_df "
   ]
  },
  {
   "cell_type": "markdown",
   "metadata": {},
   "source": [
    "Extracting Statistical Features from every sample with extraction function\n",
    "- 1000 samples computation duration = approx. 20 minutes"
   ]
  },
  {
   "cell_type": "code",
   "execution_count": null,
   "metadata": {},
   "outputs": [],
   "source": [
    "from src.feature_extraction import extract_features_all_samples\n",
    "\n",
    "features_df = extract_features_all_samples(df, top_channels_df)\n",
    "features_df"
   ]
  },
  {
   "cell_type": "markdown",
   "metadata": {},
   "source": [
    "Setting up Feature Data and Target Data for correct format to split data and Input to Microsoft's Light Gradient Boosting Machine (LGBM)"
   ]
  },
  {
   "cell_type": "code",
   "execution_count": null,
   "metadata": {},
   "outputs": [],
   "source": [
    "# Resetting the index of features_df \n",
    "features_df = features_df.reset_index().rename(columns={'index': 'eeg_id'})\n",
    "\n",
    "metadata = metadata.drop_duplicates(subset='eeg_id')\n",
    "# Merging feature data with eeg data, expert consensus values converted to numerical values\n",
    "x_train = pd.merge(metadata, features_df, on='eeg_id', how='inner')\n",
    "x_train['expert_consensus'] = x_train['expert_consensus'].replace({'Seizure': 0, 'LPD': 1, 'GPD': 2,'LRDA':3, 'GRDA':4, 'Other':5 })\n",
    "\n",
    "x_train = x_train.set_index('eeg_id')"
   ]
  },
  {
   "cell_type": "markdown",
   "metadata": {},
   "source": [
    "Inputting Parameters for LGBM Model\n",
    "- parameters were obtained by observing similiar implementation in same competition project using LGBM library. (see report doc --> citations/acknowledgements for more details) \n",
    "- Slight adjustments to parameters applied to fit our implementation"
   ]
  },
  {
   "cell_type": "code",
   "execution_count": null,
   "metadata": {},
   "outputs": [],
   "source": [
    "from lightgbm import LGBMClassifier\n",
    "import lightgbm as lgb\n",
    "\n",
    "\n",
    "params = {\n",
    "    'objective': 'multiclass',\n",
    "    'num_class': 6,\n",
    "    'boosting_type': 'gbdt',\n",
    "    'metric': 'multi_logloss',\n",
    "    'num_leaves': 121,\n",
    "    'learning_rate': 0.018623105710769177,\n",
    "    'feature_fraction': 1.0,\n",
    "    'bagging_fraction': 0.756777580360579,\n",
    "    'max_depth': 8,\n",
    "    'verbose': 0\n",
    "}\n",
    "\n",
    "lgb_model = lgb.LGBMClassifier(**params)\n",
    "# Dropping Columns that are not needed for training (Feature Data and Labels are kept)\n",
    "lgb_train = x_train.drop(columns = ['eeg_sub_id','eeg_label_offset_seconds','spectrogram_id','spectrogram_sub_id','spectrogram_label_offset_seconds','label_id', 'patient_id','seizure_vote','lpd_vote', 'gpd_vote', 'lrda_vote','grda_vote','other_vote','expert_consensus']).copy()\n"
   ]
  },
  {
   "cell_type": "markdown",
   "metadata": {},
   "source": [
    "Splitting Data 80/20 and adjusting params to obtain training and testing sets"
   ]
  },
  {
   "cell_type": "code",
   "execution_count": null,
   "metadata": {},
   "outputs": [],
   "source": [
    "from sklearn.model_selection import train_test_split\n",
    "\n",
    "# lgb_train = feature data, x_train.expert_consensus = target labels\n",
    "X_train, X_test, y_train, y_test = train_test_split(lgb_train, x_train.expert_consensus, test_size=0.2, random_state=42)\n",
    "columns_to_convert = ['std','mean','max','min','var','med','skew','kurt','ent','mom','pow']\n",
    "X_train[columns_to_convert] = X_train[columns_to_convert].astype(float)\n",
    "\n",
    "# Setting the column names to be integers for correct indexing\n",
    "X_train.columns = range(X_train.shape[1])\n",
    "X_test.columns = range(X_test.shape[1])\n",
    "\n",
    "# Converting y_train and y_test to a one-dimensional series\n",
    "y_train = y_train.squeeze()\n",
    "y_test = y_test.squeeze()\n",
    "X_test = X_test.astype(float)\n",
    "\n",
    "# Setting the feature column names to be integers for correct indexing\n",
    "X_train.columns = range(X_train.shape[1])\n",
    "X_test.columns = range(X_test.shape[1])"
   ]
  },
  {
   "cell_type": "markdown",
   "metadata": {},
   "source": [
    "Training our LGBM model on the training data and evaluating it on the test data - Probabilities for each target label are obtained and Displayed"
   ]
  },
  {
   "cell_type": "code",
   "execution_count": null,
   "metadata": {},
   "outputs": [],
   "source": [
    "lgb_model.fit(X_train, y_train)\n",
    "y_pred_proba = lgb_model.predict_proba(X_test)\n",
    "\n",
    "# Predicted probabilities to DataFrame\n",
    "pred_df = pd.DataFrame(y_pred_proba, columns=['seizure_vote', 'lpd_vote', 'gpd_vote', 'lrda_vote', 'grda_vote', 'other_vote'])\n",
    "pred_df['eeg_id'] = X_test.index\n",
    "pred_df = pred_df[['eeg_id', 'seizure_vote', 'lpd_vote', 'gpd_vote', 'lrda_vote', 'grda_vote', 'other_vote']]\n",
    "\n",
    "pred_df"
   ]
  },
  {
   "cell_type": "markdown",
   "metadata": {},
   "source": [
    "Generating Confusion Matrix with predicted labels and true labels"
   ]
  },
  {
   "cell_type": "code",
   "execution_count": null,
   "metadata": {},
   "outputs": [],
   "source": [
    "from sklearn.metrics import confusion_matrix\n",
    "\n",
    "y_pred = lgb_model.predict(X_test)\n",
    "cm = confusion_matrix(y_test, y_pred)\n",
    "print(cm)"
   ]
  },
  {
   "cell_type": "markdown",
   "metadata": {},
   "source": [
    "Generating result metrics to evaluate our multiclassification model"
   ]
  },
  {
   "cell_type": "code",
   "execution_count": null,
   "metadata": {},
   "outputs": [],
   "source": [
    "from sklearn.metrics import accuracy_score, precision_score, recall_score, f1_score\n",
    "\n",
    "# Calculate the metrics\n",
    "accuracy = accuracy_score(y_test, y_pred)\n",
    "precision = precision_score(y_test, y_pred, average='weighted')\n",
    "recall = recall_score(y_test, y_pred, average='weighted')\n",
    "f1 = f1_score(y_test, y_pred, average='weighted')\n",
    "\n",
    "print(f'Accuracy: {accuracy}')\n",
    "print(f'Precision: {precision}')\n",
    "print(f'Recall: {recall}')\n",
    "print(f'F1 Score: {f1}')"
   ]
  },
  {
   "cell_type": "markdown",
   "metadata": {},
   "source": [
    "Preprocessing Data: Applying Wavelet Transform, Notch filter, Standardization to our data\n",
    "- Model was trained without preprocessing due to higher scores without"
   ]
  },
  {
   "cell_type": "code",
   "execution_count": null,
   "metadata": {},
   "outputs": [],
   "source": [
    "## Apply the wavelet transform\n",
    "import pywt\n",
    "from src.preprocessing import wavelet_transform\n",
    "\n",
    "max_levels = pywt.dwt_max_level(data_len=10000, filter_len=pywt.Wavelet('coif1').dec_len)\n",
    "\n",
    "for sig_id in eeg_ids:\n",
    "  df.loc[sig_id] = wavelet_transform(df.loc[sig_id], max_levels)"
   ]
  },
  {
   "cell_type": "code",
   "execution_count": null,
   "metadata": {},
   "outputs": [],
   "source": [
    "## MNE setup\n",
    "import mne\n",
    "import numpy as np\n",
    "\n",
    "mne_info = mne.create_info(ch_names=sig1.columns.tolist(), sfreq=200, ch_types='eeg')\n",
    "mne_info.set_montage('standard_1020')\n",
    "    \n",
    "sig1_data = np.array(sig1.transpose())\n",
    "sig1_data = np.nan_to_num(sig1_data)\n",
    "\n",
    "raw = mne.io.RawArray(sig1_data, mne_info)\n",
    "raw.apply_function(lambda x: x / 20e6, picks='eeg')"
   ]
  },
  {
   "cell_type": "code",
   "execution_count": null,
   "metadata": {},
   "outputs": [],
   "source": [
    "# Apply filters\n",
    "from src.preprocessing import notch_filter, bp_filter, standardize\n",
    "\n",
    "l_freq = 1.0\n",
    "h_freq = 70.0\n",
    "\n",
    "df = notch_filter(df, 60)\n",
    "df = bp_filter(df, 1.0, 70)\n",
    "df = standardize(df)\n",
    "df"
   ]
  },
  {
   "cell_type": "code",
   "execution_count": null,
   "metadata": {},
   "outputs": [],
   "source": [
    "# File created to test the correctness of extracted values using MATLAB\n",
    "# Save Fp1 channel data into a MATLAB file\n",
    "# import scipy.io\n",
    "# scipy.io.savemat('Fp1_data.mat', {'Fp1_data': sig1['Fp1']})"
   ]
  }
 ],
 "metadata": {
  "kernelspec": {
   "display_name": "base",
   "language": "python",
   "name": "python3"
  },
  "language_info": {
   "codemirror_mode": {
    "name": "ipython",
    "version": 3
   },
   "file_extension": ".py",
   "mimetype": "text/x-python",
   "name": "python",
   "nbconvert_exporter": "python",
   "pygments_lexer": "ipython3",
   "version": "3.11.8"
  },
  "nbdime-conflicts": {
   "local_diff": [
    {
     "diff": [
      {
       "diff": [
        {
         "key": 0,
         "op": "addrange",
         "valuelist": [
          "3.8.18"
         ]
        },
        {
         "key": 0,
         "length": 1,
         "op": "removerange"
        }
       ],
       "key": "version",
       "op": "patch"
      }
     ],
     "key": "language_info",
     "op": "patch"
    }
   ],
   "remote_diff": [
    {
     "diff": [
      {
       "diff": [
        {
         "key": 0,
         "op": "addrange",
         "valuelist": [
          "3.12.2"
         ]
        },
        {
         "key": 0,
         "length": 1,
         "op": "removerange"
        }
       ],
       "key": "version",
       "op": "patch"
      }
     ],
     "key": "language_info",
     "op": "patch"
    }
   ]
  }
 },
 "nbformat": 4,
 "nbformat_minor": 4
}
