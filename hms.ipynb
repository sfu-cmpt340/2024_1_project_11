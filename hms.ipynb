{
 "cells": [
  {
   "cell_type": "code",
   "execution_count": 23,
   "metadata": {},
   "outputs": [],
   "source": [
    "from pathlib import Path\n",
    "import pandas as pd\n",
    "import tarfile\n",
    "import urllib.request\n",
    "import shutil\n",
    "\n",
    "def load_metadata():\n",
    "  file_path = Path(\"data/train.csv\")\n",
    "  return (pd\n",
    "    .read_csv(file_path)\n",
    "    .sample(1000, random_state=10)\n",
    "  )\n",
    "metadata = load_metadata()\n"
   ]
  }
 ],
 "metadata": {
  "kernelspec": {
   "display_name": "340-project",
   "language": "python",
   "name": "python3"
  },
  "language_info": {
   "codemirror_mode": {
    "name": "ipython",
    "version": 3
   },
   "file_extension": ".py",
   "mimetype": "text/x-python",
   "name": "python",
   "nbconvert_exporter": "python",
   "pygments_lexer": "ipython3",
   "version": "3.8.18"
  }
 },
 "nbformat": 4,
 "nbformat_minor": 2
}
