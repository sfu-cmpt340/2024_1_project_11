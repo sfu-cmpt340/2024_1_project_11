{
 "cells": [
  {
   "cell_type": "code",
   "execution_count": null,
   "metadata": {},
   "outputs": [],
   "source": [
    "import sys\n",
    "sys.path.append('src')\n",
    "from pathlib import Path\n",
    "import pandas as pd\n",
    "import tarfile\n",
    "import urllib\n",
    "\n",
    "def load_metadata():\n",
    "  file_path = Path(\"data/train.csv\")\n",
    "  return pd.read_csv(file_path)\n",
    "  \n",
    "metadata = load_metadata()\n",
    "\n",
    "def extract_eeg():\n",
    "  eeg_dir = Path(\"../data/eeg\")\n",
    "  tarball_path = Path(\"data/eeg.tar.gz\")\n",
    "  if not tarball_path.is_file():\n",
    "    url = 'https://dl.dropboxusercontent.com/scl/fi/5sina48c4naaxv6uze0fv/eeg.tar.gz?rlkey=r7ec191extynfcm8fy0tsiws5&dl=0'\n",
    "    urllib.request.urlretrieve(url, tarball_path)\n",
    "    with tarfile.open(tarball_path) as eeg_tarball:\n",
    "      eeg_tarball.extractall()\n",
    "    \n",
    "extract_eeg()\n",
    "\n",
    "metadata\n"
   ]
  },
  {
   "cell_type": "code",
   "execution_count": null,
   "metadata": {},
   "outputs": [],
   "source": [
    "# Visualization\n",
    "import dask.dataframe as dd\n",
    "import numpy as np\n",
    "import glob\n",
    "\n",
    "channel_order = ['Fp1', 'Fp2',\n",
    "            'F7', 'F3', 'Fz', 'F4', 'F8', \n",
    "            'T3', 'C3', 'Cz', 'C4', 'T4', \n",
    "            'T5', 'P3', 'Pz', 'P4', 'T6', \n",
    "            'O1', 'O2',\n",
    "            ]\n",
    "sfreq = 200\n",
    "eeg_ids = metadata['eeg_id'].to_list()\n",
    "\n",
    "ddf_list = []\n",
    "for eeg_id in eeg_ids:\n",
    "  f_name = f'data/eeg/{eeg_id}.parquet'\n",
    "  temp_ddf = dd.read_parquet(f_name).drop('EKG', axis=1) [channel_order]\n",
    "  temp_ddf['eeg_id'] = str(eeg_id)\n",
    "  temp_ddf = temp_ddf.set_index('eeg_id')\n",
    "  ddf_list.append(temp_ddf)\n",
    "\n",
    "ddf = dd.concat(ddf_list)\n",
    "ddf\n",
    "\n"
   ]
  },
  {
   "cell_type": "code",
   "execution_count": null,
   "metadata": {},
   "outputs": [],
   "source": [
    "df = ddf.compute()\n",
    "df\n",
    "\n"
   ]
  },
  {
   "cell_type": "code",
   "execution_count": null,
   "metadata": {},
   "outputs": [],
   "source": [
    "print(np.var(df['Fp1'], axis=0)) #variance for one col/channel\n",
    "fpl = df['Pz'].fillna(0).to_numpy() #converting to numby array for easier computation\n",
    "print(np.var(fpl, axis=0))"
   ]
  },
  {
   "cell_type": "code",
   "execution_count": null,
   "metadata": {},
   "outputs": [],
   "source": [
    "# one sample and their channels\n",
    "sig1 = df.loc[['1618328341']]\n",
    "sig1"
   ]
  },
  {
   "cell_type": "code",
   "execution_count": null,
   "metadata": {},
   "outputs": [],
   "source": [
    "sig1['Fp1']\n"
   ]
  },
  {
   "cell_type": "code",
   "execution_count": null,
   "metadata": {},
   "outputs": [],
   "source": [
    "# variance for one channel(Fp1) in one signal(4144388963)\n",
    "np.var(sig1['Fp1'].to_numpy())\n"
   ]
  },
  {
   "cell_type": "code",
   "execution_count": 14,
   "metadata": {},
   "outputs": [
    {
     "name": "stdout",
     "output_type": "stream",
     "text": [
      "All channels: [('Fp2', 6680.88427734375), ('Fp1', 4566.283203125), ('F7', 2778.66064453125), ('T3', 2048.032958984375), ('F8', 1655.0438232421875), ('T5', 1345.5286865234375), ('O1', 1132.64453125), ('T6', 1045.6107177734375), ('T4', 1009.9955444335938), ('O2', 1004.8770141601562), ('P3', 904.2730102539062), ('P4', 758.5702514648438), ('Pz', 616.1547241210938), ('C3', 592.7063598632812), ('F4', 521.01611328125), ('F3', 478.910888671875), ('C4', 429.0072937011719), ('Fz', 402.599853515625), ('Cz', 130.08938598632812)]\n",
      "Top 3 channels with highest variance for the single sample:\n",
      "1. Fp2\n",
      "2. Fp1\n",
      "3. F7\n"
     ]
    }
   ],
   "source": [
    "from feature_extraction.channel_selection import calculate_top_channels\n",
    "\n",
    "top_channels = calculate_top_channels(sig1)\n",
    "print(\"Top 3 channels with highest variance for the single sample:\")\n",
    "for i, channel in enumerate(top_channels, start=1):\n",
    "    print(f\"{i}. {channel}\")"
   ]
  },
  {
   "cell_type": "code",
   "execution_count": null,
   "metadata": {},
   "outputs": [],
   "source": [
    "# Visualization\n",
    "from visualize import VisualizeEEG\n",
    "raw_df = ddf.partitions[2].compute()\n",
    "\n",
    "vis_eeg = VisualizeEEG(raw_df)\n",
    "# Plot signal channels\n",
    "vis_eeg.plot_signal(start=38, duration=7)\n",
    "# Plot topographic map\n",
    "vis_eeg.plot_topomap(start=38, end=45, delta=1)\n",
    "\n"
   ]
  },
  {
   "cell_type": "code",
   "execution_count": null,
   "metadata": {},
   "outputs": [],
   "source": [
    "\n"
   ]
  }
 ],
 "metadata": {
  "kernelspec": {
   "display_name": "340-project",
   "language": "python",
   "name": "python3"
  },
  "language_info": {
   "codemirror_mode": {
    "name": "ipython",
    "version": 3
   },
   "file_extension": ".py",
   "mimetype": "text/x-python",
   "name": "python",
   "nbconvert_exporter": "python",
   "pygments_lexer": "ipython3",
   "version": "3.11.7"
  }
 },
 "nbformat": 4,
 "nbformat_minor": 2
}
