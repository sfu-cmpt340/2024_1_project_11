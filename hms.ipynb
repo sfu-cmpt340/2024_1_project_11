{
  "cells": [
    {
      "cell_type": "code",
      "execution_count": null,
      "metadata": {},
      "outputs": [],
      "source": [
        "import sys\n",
        "from pathlib import Path\n",
        "import pandas as pd\n",
        "import tarfile\n",
        "import urllib\n",
        "\n",
        "def load_metadata():\n",
        "  file_path = Path(\"data/train.csv\")\n",
        "  return pd.read_csv(file_path)\n",
        "  \n",
        "metadata = load_metadata()\n",
        "\n",
        "def extract_eeg():\n",
        "  eeg_dir = Path(\"../data/eeg\")\n",
        "  tarball_path = Path(\"data/eeg.tar.gz\")\n",
        "  if not tarball_path.is_file():\n",
        "    url = 'https://dl.dropboxusercontent.com/scl/fi/5sina48c4naaxv6uze0fv/eeg.tar.gz?rlkey=r7ec191extynfcm8fy0tsiws5&dl=0'\n",
        "    urllib.request.urlretrieve(url, tarball_path)\n",
        "    with tarfile.open(tarball_path) as eeg_tarball:\n",
        "      eeg_tarball.extractall()\n",
        "    \n",
        "extract_eeg()\n",
        "metadata = metadata.drop_duplicates(subset='eeg_id')  # Dropping duplicate EEG IDs, 860 samples in total\n",
        "metadata\n"
      ]
    },
    {
      "cell_type": "code",
      "execution_count": null,
      "metadata": {},
      "outputs": [],
      "source": [
        "# Load into Dask\n",
        "import dask.dataframe as dd\n",
        "import numpy as np\n",
        "import glob\n",
        "\n",
        "channel_order = ['Fp1', 'Fp2',\n",
        "            'F7', 'F3', 'Fz', 'F4', 'F8', \n",
        "            'T3', 'C3', 'Cz', 'C4', 'T4', \n",
        "            'T5', 'P3', 'Pz', 'P4', 'T6', \n",
        "            'O1', 'O2',\n",
        "            ]\n",
        "sfreq = 200\n",
        "eeg_ids = metadata['eeg_id'].to_list()\n",
        "\n",
        "ddf_list = []\n",
        "for eeg_id in eeg_ids:\n",
        "  f_name = f'data/eeg/{eeg_id}.parquet'\n",
        "  temp_ddf = dd.read_parquet(f_name).drop('EKG', axis=1)[channel_order]\n",
        "  temp_ddf['eeg_id'] = str(eeg_id)\n",
        "  temp_ddf = temp_ddf.set_index('eeg_id')\n",
        "  ddf_list.append(temp_ddf)\n",
        "\n",
        "ddf = dd.concat(ddf_list)\n",
        "ddf\n",
        "\n"
      ]
    },
    {
      "cell_type": "code",
      "execution_count": null,
      "metadata": {},
      "outputs": [],
      "source": [
        "sig1 = ddf.loc['2161044411'].compute()\n",
        "sig1"
      ]
    },
    {
      "cell_type": "code",
      "execution_count": null,
      "metadata": {},
      "outputs": [],
      "source": [
        "## MNE setup\n",
        "import mne\n",
        "\n",
        "mne_info = mne.create_info(ch_names=sig1.columns.tolist(), sfreq=200, ch_types='eeg')\n",
        "mne_info.set_montage('standard_1020')\n",
        "    \n",
        "sig1_data = np.array(sig1.transpose())\n",
        "sig1_data = np.nan_to_num(sig1_data)\n",
        "    \n",
        "raw = mne.io.RawArray(sig1_data, mne_info)\n",
        "raw.apply_function(lambda x: x / 20e6, picks='eeg')"
      ]
    },
    {
      "cell_type": "code",
      "execution_count": null,
      "metadata": {},
      "outputs": [],
      "source": [
        "# Apply filters\n",
        "from src.preprocessing import notch_filter, bp_filter, standardize\n",
        "\n",
        "l_freq = 1.0\n",
        "h_freq = 70.0\n",
        "\n",
        "df = notch_filter(df, 60)\n",
        "df = bp_filter(df, 1.0, 70)\n",
        "df = standardize(df)\n",
        "df"
      ]
    },
    {
      "cell_type": "code",
      "execution_count": null,
      "metadata": {},
      "outputs": [],
      "source": [
        "# Extracting top 3 channels based on variance for all samples\n",
        "# 1000 samples computation duration = approx. 10 minutes\n",
        "from src.feature_extraction import calculate_all_samples\n",
        "\n",
        "top_channels_df = calculate_all_samples(df, eeg_ids, 10) # 10 samples for testing\n",
        "top_channels_df # NEED TO EXTRACT FEATURES FROM CHANNELS IN THIS DATA STRUCTURE"
      ]
    },
    {
      "cell_type": "code",
      "execution_count": null,
      "metadata": {},
      "outputs": [],
      "source": [
        "# Relevant code for testing purposes\n",
        "\n",
        "# print(np.var(df['Fp1'], axis=0)) #variance for one col/channel\n",
        "# fpl = df['Pz'].fillna(0).to_numpy() #converting to numby array for easier computation\n",
        "#print(np.var(df['Fp1'], axis=0)) #variance for one col/channel\n",
        "\n",
        "# one sample and their channels\n",
        "# sig1 = df.loc[['521108392']]\n",
        "# sig1\n",
        "# sig1['Fp1'] # one sample and single channel\n",
        "# print(np.var(fpl, axis=0))\n",
        "\n",
        "# variance for one channel(Fp1) in one signal(4144388963)\n",
        "# np.var(sig1['F7'].to_numpy())\n",
        "\n",
        "# File created to test the correctness of extracted values using MATLAB\n",
        "# Save Fp1 channel data into a MATLAB file\n",
        "# import scipy.io\n",
        "# scipy.io.savemat('Fp1_data.mat', {'Fp1_data': sig1['Fp1']})"
      ]
    }
  ],
  "metadata": {
    "kernelspec": {
      "display_name": "base",
      "language": "python",
      "name": "python3"
    },
    "language_info": {
      "codemirror_mode": {
        "name": "ipython",
        "version": 3
      },
      "file_extension": ".py",
      "mimetype": "text/x-python",
      "name": "python",
      "nbconvert_exporter": "python",
      "pygments_lexer": "ipython3",
      "version": "3.12.2"
    }
  },
  "nbformat": 4,
  "nbformat_minor": 4
}
