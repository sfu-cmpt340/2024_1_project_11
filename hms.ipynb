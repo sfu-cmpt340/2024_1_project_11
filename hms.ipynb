{
 "cells": [
  {
   "cell_type": "code",
   "execution_count": null,
   "metadata": {},
   "outputs": [],
   "source": [
    "import sys\n",
    "sys.path.append('src')\n",
    "from pathlib import Path\n",
    "import pandas as pd\n",
    "import tarfile\n",
    "import urllib\n",
    "\n",
    "def load_metadata():\n",
    "  file_path = Path(\"data/train.csv\")\n",
    "  return pd.read_csv(file_path)\n",
    "  \n",
    "metadata = load_metadata()\n",
    "\n",
    "def extract_eeg():\n",
    "  eeg_dir = Path(\"../data/eeg\")\n",
    "  tarball_path = Path(\"data/eeg.tar.gz\")\n",
    "  if not tarball_path.is_file():\n",
    "    url = 'https://dl.dropboxusercontent.com/scl/fi/5sina48c4naaxv6uze0fv/eeg.tar.gz?rlkey=r7ec191extynfcm8fy0tsiws5&dl=0'\n",
    "    urllib.request.urlretrieve(url, tarball_path)\n",
    "    with tarfile.open(tarball_path) as eeg_tarball:\n",
    "      eeg_tarball.extractall()\n",
    "    \n",
    "extract_eeg()\n",
    "metadata = metadata.drop_duplicates(subset='eeg_id')  # Dropping duplicate EEG IDs\n",
    "metadata\n"
   ]
  },
  {
   "cell_type": "code",
   "execution_count": null,
   "metadata": {},
   "outputs": [],
   "source": [
    "# Visualization\n",
    "import dask.dataframe as dd\n",
    "import numpy as np\n",
    "import glob\n",
    "\n",
    "channel_order = ['Fp1', 'Fp2',\n",
    "            'F7', 'F3', 'Fz', 'F4', 'F8', \n",
    "            'T3', 'C3', 'Cz', 'C4', 'T4', \n",
    "            'T5', 'P3', 'Pz', 'P4', 'T6', \n",
    "            'O1', 'O2',\n",
    "            ]\n",
    "sfreq = 200\n",
    "eeg_ids = metadata['eeg_id'].to_list()\n",
    "\n",
    "ddf_list = []\n",
    "for eeg_id in eeg_ids:\n",
    "  f_name = f'data/eeg/{eeg_id}.parquet'\n",
    "  temp_ddf = dd.read_parquet(f_name).drop('EKG', axis=1) [channel_order]\n",
    "  temp_ddf['eeg_id'] = str(eeg_id)\n",
    "  temp_ddf = temp_ddf.set_index('eeg_id')\n",
    "  ddf_list.append(temp_ddf)\n",
    "\n",
    "ddf = dd.concat(ddf_list)\n",
    "ddf\n",
    "\n"
   ]
  },
  {
   "cell_type": "code",
   "execution_count": null,
   "metadata": {},
   "outputs": [],
   "source": [
    "df = ddf.compute()\n",
    "df\n",
    "\n"
   ]
  },
  {
   "cell_type": "code",
   "execution_count": null,
   "metadata": {},
   "outputs": [],
   "source": [
    "# Channel Selection Based on Variance\n",
    "from feature_extraction.channel_selection import calculate_all_samples\n",
    "\n",
    "top_channel_df = calculate_all_samples(df, eeg_ids, 1000)\n",
    "top_channel_df"
   ]
  },
  {
   "cell_type": "code",
   "execution_count": null,
   "metadata": {},
   "outputs": [],
   "source": [
    "# Feature Extraction for 11 features per Channel - Averaged Values\n",
    "from feature_extraction.extracted_features import extract_features_all_samples\n",
    "\n",
    "features_df = extract_features_all_samples(df, top_channel_df)\n",
    "features_df\n"
   ]
  },
  {
   "cell_type": "code",
   "execution_count": null,
   "metadata": {},
   "outputs": [],
   "source": [
    "# Visualization\n",
    "from visualize import VisualizeEEG\n",
    "raw_df = ddf.partitions[2].compute()\n",
    "\n",
    "vis_eeg = VisualizeEEG(raw_df)\n",
    "# Plot signal channels\n",
    "vis_eeg.plot_signal(start=38, duration=7)\n",
    "# Plot topographic map\n",
    "vis_eeg.plot_topomap(start=38, end=45, delta=1)\n",
    "\n"
   ]
  },
  {
   "cell_type": "code",
   "execution_count": null,
   "metadata": {},
   "outputs": [],
   "source": [
    "#print(np.var(df['Fp1'], axis=0)) #variance for one col/channel\n",
    "#fpl = df['Pz'].fillna(0).to_numpy() #converting to numby array for easier computation\n",
    "#print(np.var(fpl, axis=0))\n",
    "# variance for one channel(Fp1) in one signal(4144388963)\n",
    "#np.var(sig1['Fp1'].to_numpy())\n",
    "# one sample and their channels\n",
    "#sig1 = df.loc[['1618328341']]\n",
    "#sig1\n",
    "# df.index = df.index.map(str)\n",
    "# # Or, convert to integer\n",
    "# df.index = df.index.map(int)"
   ]
  }
 ],
 "metadata": {
  "kernelspec": {
   "display_name": "340-project",
   "language": "python",
   "name": "python3"
  },
  "language_info": {
   "codemirror_mode": {
    "name": "ipython",
    "version": 3
   },
   "file_extension": ".py",
   "mimetype": "text/x-python",
   "name": "python",
   "nbconvert_exporter": "python",
   "pygments_lexer": "ipython3",
   "version": "3.11.8"
  }
 },
 "nbformat": 4,
 "nbformat_minor": 2
}
